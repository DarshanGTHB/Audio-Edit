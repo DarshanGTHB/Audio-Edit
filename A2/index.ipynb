{
 "cells": [
  {
   "cell_type": "code",
   "execution_count": 16,
   "metadata": {},
   "outputs": [],
   "source": [
    "from tensorflow.keras.layers import Dense, Flatten, Dropout\n",
    "import tensorflow as tf\n",
    "from tensorflow.keras import Sequential\n",
    "from tensorflow.keras.optimizers import Adam\n",
    "from tensorflow.keras.datasets import mnist\n",
    "from sklearn.model_selection import ParameterGrid\n",
    "import numpy as np"
   ]
  },
  {
   "cell_type": "code",
   "execution_count": 17,
   "metadata": {},
   "outputs": [],
   "source": [
    "(x_train, y_train), (x_test, y_test) = mnist.load_data()\n",
    "\n",
    "x_train = x_train / 255.0\n",
    "x_test = x_test / 255.0\n",
    "\n",
    "y_train = tf.keras.utils.to_categorical(y_train, 10)\n",
    "y_test = tf.keras.utils.to_categorical(y_test, 10)"
   ]
  },
  {
   "cell_type": "code",
   "execution_count": 18,
   "metadata": {},
   "outputs": [],
   "source": [
    "\n",
    "# param_grid = {\n",
    "#     'learning_rate': [0.001, 0.01, 0.1, 0.0001], \n",
    "#     'dropout_rate': [0.1, 0.2, 0.3, 0.4, 0.5],   \n",
    "#     'batch_size': [16, 32, 64, 128],             \n",
    "#     'epochs': [5, 10, 20, 50],                   \n",
    "#     'activation': ['relu', 'tanh', 'sigmoid'],   \n",
    "#     'optimizer': ['adam', 'sgd', 'rmsprop'],     \n",
    "#     'units': [32, 64, 128, 256]                  \n",
    "# }\n",
    "\n",
    "\n",
    "\n",
    "\n",
    "# for testing \n",
    "param_grid = {\n",
    "    'learning_rate': [0.001],\n",
    "    'dropout_rate': [0.2],\n",
    "    'batch_size': [32],\n",
    "    'epochs': [5,10]\n",
    "}\n",
    "\n",
    "grid = ParameterGrid(param_grid)"
   ]
  },
  {
   "cell_type": "code",
   "execution_count": 19,
   "metadata": {},
   "outputs": [],
   "source": [
    "def create_model(learning_rate, dropout_rate):\n",
    "    model = Sequential([\n",
    "        Flatten(input_shape=(28, 28)),\n",
    "        Dense(256, activation='relu'),\n",
    "        Dropout(dropout_rate),\n",
    "        Dense(128, activation='relu'),\n",
    "        Dropout(dropout_rate),\n",
    "        Dense(10, activation='softmax')\n",
    "    ])\n",
    "    model.compile(optimizer=Adam(learning_rate=learning_rate),\n",
    "                  loss='categorical_crossentropy',\n",
    "                  metrics=['accuracy'])\n",
    "    return model"
   ]
  },
  {
   "cell_type": "code",
   "execution_count": 20,
   "metadata": {},
   "outputs": [
    {
     "name": "stdout",
     "output_type": "stream",
     "text": [
      "Testing combination: {'batch_size': 32, 'dropout_rate': 0.2, 'epochs': 5, 'learning_rate': 0.001}\n"
     ]
    },
    {
     "name": "stderr",
     "output_type": "stream",
     "text": [
      "C:\\Users\\Darshan\\AppData\\Local\\Packages\\PythonSoftwareFoundation.Python.3.11_qbz5n2kfra8p0\\LocalCache\\local-packages\\Python311\\site-packages\\keras\\src\\layers\\reshaping\\flatten.py:37: UserWarning: Do not pass an `input_shape`/`input_dim` argument to a layer. When using Sequential models, prefer using an `Input(shape)` object as the first layer in the model instead.\n",
      "  super().__init__(**kwargs)\n"
     ]
    },
    {
     "name": "stdout",
     "output_type": "stream",
     "text": [
      "Validation Accuracy: 97.86%\n",
      "Testing combination: {'batch_size': 32, 'dropout_rate': 0.2, 'epochs': 10, 'learning_rate': 0.001}\n",
      "Validation Accuracy: 98.10%\n"
     ]
    }
   ],
   "source": [
    "best_accuracy = 0\n",
    "best_params = {}\n",
    "\n",
    "for params in grid:\n",
    "    print(f\"Testing combination: {params}\")\n",
    "    model = create_model(params['learning_rate'], params['dropout_rate'])\n",
    "    history = model.fit(x_train, y_train, epochs=params['epochs'], \n",
    "                        batch_size=params['batch_size'], validation_split=0.2, verbose=0)\n",
    "    test_loss, test_accuracy = model.evaluate(x_test, y_test, verbose=0)\n",
    "\n",
    "    print(f\"Validation Accuracy: {test_accuracy * 100:.2f}%\")\n",
    "\n",
    "    if test_accuracy > best_accuracy:\n",
    "        best_accuracy = test_accuracy\n",
    "        best_params = params"
   ]
  },
  {
   "cell_type": "code",
   "execution_count": 22,
   "metadata": {},
   "outputs": [
    {
     "name": "stdout",
     "output_type": "stream",
     "text": [
      "\n",
      "Best Parameters: {'batch_size': 32, 'dropout_rate': 0.2, 'epochs': 10, 'learning_rate': 0.001}\n",
      "Best Accuracy: 98.10%\n"
     ]
    }
   ],
   "source": [
    "print(\"\\nBest Parameters:\", best_params)\n",
    "print(f\"Best Accuracy: {best_accuracy * 100:.2f}%\")"
   ]
  }
 ],
 "metadata": {
  "kernelspec": {
   "display_name": "Python 3",
   "language": "python",
   "name": "python3"
  },
  "language_info": {
   "codemirror_mode": {
    "name": "ipython",
    "version": 3
   },
   "file_extension": ".py",
   "mimetype": "text/x-python",
   "name": "python",
   "nbconvert_exporter": "python",
   "pygments_lexer": "ipython3",
   "version": "3.11.9"
  }
 },
 "nbformat": 4,
 "nbformat_minor": 2
}
